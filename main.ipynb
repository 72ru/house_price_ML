{
 "cells": [
  {
   "cell_type": "code",
   "execution_count": 1,
   "id": "a9ad1e9200b09b38",
   "metadata": {
    "ExecuteTime": {
     "end_time": "2024-04-23T13:41:39.867432Z",
     "start_time": "2024-04-23T13:41:39.863562Z"
    }
   },
   "outputs": [],
   "source": [
    "import warnings\n",
    "import pandas as pd\n",
    "import numpy as np\n",
    "\n",
    "import pyspark\n",
    "from pyspark.sql import SparkSession\n",
    "from pyspark.sql.functions import col, avg\n",
    "from pyspark.sql.types import *\n",
    "import pyspark.sql.functions as F\n",
    "\n",
    "from pyspark.ml.feature import StringIndexer, VectorAssembler, StandardScaler\n",
    "from pyspark.ml.feature import OneHotEncoder\n",
    "\n",
    "from pyspark.ml.regression import LinearRegression\n",
    "from pyspark.ml.evaluation import RegressionEvaluator\n"
   ]
  },
  {
   "cell_type": "code",
   "execution_count": 2,
   "id": "44d2ac23add2106c",
   "metadata": {
    "ExecuteTime": {
     "end_time": "2024-04-23T08:33:22.326074Z",
     "start_time": "2024-04-23T08:33:22.324067Z"
    }
   },
   "outputs": [],
   "source": [
    "# pd.set_option('display.float_format', '{:,.2f}'.format)\n",
    "warnings.filterwarnings('ignore')"
   ]
  },
  {
   "cell_type": "markdown",
   "id": "3ae3390ce1267b39",
   "metadata": {},
   "source": [
    "# Цель\n",
    "\n",
    "Предсказание стоимости жилья. В проекте вам нужно обучить модель линейной регрессии на данных о жилье в Калифорнии в 1990 году. На основе данных нужно предсказать медианную стоимость дома в жилом массиве. Обучите модель и сделайте предсказания на тестовой выборке. Для оценки качества модели используйте метрики RMSE, MAE и R2."
   ]
  },
  {
   "cell_type": "markdown",
   "id": "8cda848ea9cc9b14",
   "metadata": {},
   "source": [
    "# Загрузка и подготовка данных"
   ]
  },
  {
   "cell_type": "code",
   "execution_count": 3,
   "id": "4535c7d10b08f043",
   "metadata": {
    "ExecuteTime": {
     "end_time": "2024-04-23T08:33:24.260754Z",
     "start_time": "2024-04-23T08:33:22.326757Z"
    }
   },
   "outputs": [],
   "source": [
    "# Инициализируйте локальную Spark-сессию.\n",
    "RANDOM_SEED = 2022\n",
    "\n",
    "spark = (SparkSession.builder\n",
    "         .master(\"local\")\n",
    "         .appName(\"EDA California Housing\")\n",
    "         .getOrCreate())"
   ]
  },
  {
   "cell_type": "markdown",
   "id": "a17dcfa7b54e4b2b",
   "metadata": {},
   "source": [
    "## Загрузка данных"
   ]
  },
  {
   "cell_type": "code",
   "execution_count": 4,
   "id": "731a65f69d0748b3",
   "metadata": {
    "ExecuteTime": {
     "end_time": "2024-04-23T08:33:26.787434Z",
     "start_time": "2024-04-23T08:33:24.262134Z"
    }
   },
   "outputs": [
    {
     "name": "stderr",
     "output_type": "stream",
     "text": [
      "[Stage 1:>                                                          (0 + 1) / 1]\r"
     ]
    },
    {
     "name": "stdout",
     "output_type": "stream",
     "text": [
      "root\n",
      " |-- longitude: double (nullable = true)\n",
      " |-- latitude: double (nullable = true)\n",
      " |-- housing_median_age: double (nullable = true)\n",
      " |-- total_rooms: double (nullable = true)\n",
      " |-- total_bedrooms: double (nullable = true)\n",
      " |-- population: double (nullable = true)\n",
      " |-- households: double (nullable = true)\n",
      " |-- median_income: double (nullable = true)\n",
      " |-- median_house_value: double (nullable = true)\n",
      " |-- ocean_proximity: string (nullable = true)\n",
      "\n"
     ]
    },
    {
     "name": "stderr",
     "output_type": "stream",
     "text": [
      "                                                                                \r"
     ]
    }
   ],
   "source": [
    "df = spark.read.option('header', 'true').csv('/datasets/housing.csv', inferSchema=True)\n",
    "df.printSchema()"
   ]
  },
  {
   "cell_type": "markdown",
   "id": "1214456268f47b76",
   "metadata": {},
   "source": [
    "В колонках датасета содержатся следующие данные:\n",
    "\n",
    "- longitude: широта;\n",
    "- latitude: долгота;\n",
    "- housing_median_age: медианный возраст жителей жилого массива;\n",
    "- total_rooms: общее количество комнат в домах жилого массива;\n",
    "- total_bedrooms: общее количество спален в домах жилого массива;\n",
    "- population: количество человек, которые проживают в жилом массиве;\n",
    "- households: количество домовладений в жилом массиве;\n",
    "- median_income: медианный доход жителей жилого массива;\n",
    "- median_house_value: медианная стоимость дома в жилом массиве;\n",
    "- ocean_proximity: близость к океану.\n",
    "\n",
    "В большинстве колонок хранятся количественные данные, кроме одной — ocean_proximity. Она хранит категориальные значения."
   ]
  },
  {
   "cell_type": "code",
   "execution_count": 5,
   "id": "5319f51fc14fcbb5",
   "metadata": {
    "ExecuteTime": {
     "end_time": "2024-04-23T08:33:27.015215Z",
     "start_time": "2024-04-23T08:33:26.789826Z"
    },
    "scrolled": true
   },
   "outputs": [
    {
     "name": "stdout",
     "output_type": "stream",
     "text": [
      "+---------+--------+------------------+-----------+--------------+----------+----------+-------------+------------------+---------------+\n",
      "|longitude|latitude|housing_median_age|total_rooms|total_bedrooms|population|households|median_income|median_house_value|ocean_proximity|\n",
      "+---------+--------+------------------+-----------+--------------+----------+----------+-------------+------------------+---------------+\n",
      "|  -122.23|   37.88|              41.0|      880.0|         129.0|     322.0|     126.0|       8.3252|          452600.0|       NEAR BAY|\n",
      "|  -122.22|   37.86|              21.0|     7099.0|        1106.0|    2401.0|    1138.0|       8.3014|          358500.0|       NEAR BAY|\n",
      "|  -122.24|   37.85|              52.0|     1467.0|         190.0|     496.0|     177.0|       7.2574|          352100.0|       NEAR BAY|\n",
      "|  -122.25|   37.85|              52.0|     1274.0|         235.0|     558.0|     219.0|       5.6431|          341300.0|       NEAR BAY|\n",
      "|  -122.25|   37.85|              52.0|     1627.0|         280.0|     565.0|     259.0|       3.8462|          342200.0|       NEAR BAY|\n",
      "|  -122.25|   37.85|              52.0|      919.0|         213.0|     413.0|     193.0|       4.0368|          269700.0|       NEAR BAY|\n",
      "|  -122.25|   37.84|              52.0|     2535.0|         489.0|    1094.0|     514.0|       3.6591|          299200.0|       NEAR BAY|\n",
      "|  -122.25|   37.84|              52.0|     3104.0|         687.0|    1157.0|     647.0|         3.12|          241400.0|       NEAR BAY|\n",
      "|  -122.26|   37.84|              42.0|     2555.0|         665.0|    1206.0|     595.0|       2.0804|          226700.0|       NEAR BAY|\n",
      "|  -122.25|   37.84|              52.0|     3549.0|         707.0|    1551.0|     714.0|       3.6912|          261100.0|       NEAR BAY|\n",
      "+---------+--------+------------------+-----------+--------------+----------+----------+-------------+------------------+---------------+\n",
      "only showing top 10 rows\n",
      "\n"
     ]
    }
   ],
   "source": [
    "df.show(10)"
   ]
  },
  {
   "cell_type": "code",
   "execution_count": 6,
   "id": "8734236fbf51f10e",
   "metadata": {
    "ExecuteTime": {
     "end_time": "2024-04-23T08:33:27.412703Z",
     "start_time": "2024-04-23T08:33:27.016312Z"
    }
   },
   "outputs": [
    {
     "name": "stderr",
     "output_type": "stream",
     "text": [
      "                                                                                \r"
     ]
    },
    {
     "data": {
      "text/html": [
       "<div>\n",
       "<style scoped>\n",
       "    .dataframe tbody tr th:only-of-type {\n",
       "        vertical-align: middle;\n",
       "    }\n",
       "\n",
       "    .dataframe tbody tr th {\n",
       "        vertical-align: top;\n",
       "    }\n",
       "\n",
       "    .dataframe thead th {\n",
       "        text-align: right;\n",
       "    }\n",
       "</style>\n",
       "<table border=\"1\" class=\"dataframe\">\n",
       "  <thead>\n",
       "    <tr style=\"text-align: right;\">\n",
       "      <th></th>\n",
       "      <th>summary</th>\n",
       "      <th>longitude</th>\n",
       "      <th>latitude</th>\n",
       "      <th>housing_median_age</th>\n",
       "      <th>total_rooms</th>\n",
       "      <th>total_bedrooms</th>\n",
       "      <th>population</th>\n",
       "      <th>households</th>\n",
       "      <th>median_income</th>\n",
       "      <th>median_house_value</th>\n",
       "      <th>ocean_proximity</th>\n",
       "    </tr>\n",
       "  </thead>\n",
       "  <tbody>\n",
       "    <tr>\n",
       "      <th>0</th>\n",
       "      <td>count</td>\n",
       "      <td>20640</td>\n",
       "      <td>20640</td>\n",
       "      <td>20640</td>\n",
       "      <td>20640</td>\n",
       "      <td>20433</td>\n",
       "      <td>20640</td>\n",
       "      <td>20640</td>\n",
       "      <td>20640</td>\n",
       "      <td>20640</td>\n",
       "      <td>20640</td>\n",
       "    </tr>\n",
       "    <tr>\n",
       "      <th>1</th>\n",
       "      <td>mean</td>\n",
       "      <td>-119.56970445736148</td>\n",
       "      <td>35.6318614341087</td>\n",
       "      <td>28.639486434108527</td>\n",
       "      <td>2635.7630813953488</td>\n",
       "      <td>537.8705525375618</td>\n",
       "      <td>1425.4767441860465</td>\n",
       "      <td>499.5396802325581</td>\n",
       "      <td>3.8706710029070246</td>\n",
       "      <td>206855.81690891474</td>\n",
       "      <td>None</td>\n",
       "    </tr>\n",
       "    <tr>\n",
       "      <th>2</th>\n",
       "      <td>stddev</td>\n",
       "      <td>2.003531723502584</td>\n",
       "      <td>2.135952397457101</td>\n",
       "      <td>12.58555761211163</td>\n",
       "      <td>2181.6152515827944</td>\n",
       "      <td>421.38507007403115</td>\n",
       "      <td>1132.46212176534</td>\n",
       "      <td>382.3297528316098</td>\n",
       "      <td>1.899821717945263</td>\n",
       "      <td>115395.61587441359</td>\n",
       "      <td>None</td>\n",
       "    </tr>\n",
       "    <tr>\n",
       "      <th>3</th>\n",
       "      <td>min</td>\n",
       "      <td>-124.35</td>\n",
       "      <td>32.54</td>\n",
       "      <td>1.0</td>\n",
       "      <td>2.0</td>\n",
       "      <td>1.0</td>\n",
       "      <td>3.0</td>\n",
       "      <td>1.0</td>\n",
       "      <td>0.4999</td>\n",
       "      <td>14999.0</td>\n",
       "      <td>&lt;1H OCEAN</td>\n",
       "    </tr>\n",
       "    <tr>\n",
       "      <th>4</th>\n",
       "      <td>max</td>\n",
       "      <td>-114.31</td>\n",
       "      <td>41.95</td>\n",
       "      <td>52.0</td>\n",
       "      <td>39320.0</td>\n",
       "      <td>6445.0</td>\n",
       "      <td>35682.0</td>\n",
       "      <td>6082.0</td>\n",
       "      <td>15.0001</td>\n",
       "      <td>500001.0</td>\n",
       "      <td>NEAR OCEAN</td>\n",
       "    </tr>\n",
       "  </tbody>\n",
       "</table>\n",
       "</div>"
      ],
      "text/plain": [
       "  summary            longitude           latitude  housing_median_age  \\\n",
       "0   count                20640              20640               20640   \n",
       "1    mean  -119.56970445736148   35.6318614341087  28.639486434108527   \n",
       "2  stddev    2.003531723502584  2.135952397457101   12.58555761211163   \n",
       "3     min              -124.35              32.54                 1.0   \n",
       "4     max              -114.31              41.95                52.0   \n",
       "\n",
       "          total_rooms      total_bedrooms          population  \\\n",
       "0               20640               20433               20640   \n",
       "1  2635.7630813953488   537.8705525375618  1425.4767441860465   \n",
       "2  2181.6152515827944  421.38507007403115    1132.46212176534   \n",
       "3                 2.0                 1.0                 3.0   \n",
       "4             39320.0              6445.0             35682.0   \n",
       "\n",
       "          households       median_income  median_house_value ocean_proximity  \n",
       "0              20640               20640               20640           20640  \n",
       "1  499.5396802325581  3.8706710029070246  206855.81690891474            None  \n",
       "2  382.3297528316098   1.899821717945263  115395.61587441359            None  \n",
       "3                1.0              0.4999             14999.0       <1H OCEAN  \n",
       "4             6082.0             15.0001            500001.0      NEAR OCEAN  "
      ]
     },
     "execution_count": 6,
     "metadata": {},
     "output_type": "execute_result"
    }
   ],
   "source": [
    "df.describe().toPandas().head()"
   ]
  },
  {
   "cell_type": "markdown",
   "id": "99db18d6f44990be",
   "metadata": {},
   "source": [
    " В датасете примерно 21 тысяча строк. Максимальная медианная стоимость дома равна полумиллиону долларов."
   ]
  },
  {
   "cell_type": "code",
   "execution_count": 7,
   "id": "1e0a0b4a44346185",
   "metadata": {
    "ExecuteTime": {
     "end_time": "2024-04-23T08:33:27.779478Z",
     "start_time": "2024-04-23T08:33:27.413544Z"
    }
   },
   "outputs": [
    {
     "data": {
      "text/plain": [
       "965"
      ]
     },
     "execution_count": 7,
     "metadata": {},
     "output_type": "execute_result"
    }
   ],
   "source": [
    "df.filter(F.col('median_house_value') > 500000).count()"
   ]
  },
  {
   "cell_type": "markdown",
   "id": "463426544182b1c0",
   "metadata": {},
   "source": [
    "## Предобработка"
   ]
  },
  {
   "cell_type": "markdown",
   "id": "d54a52c9a057a53d",
   "metadata": {},
   "source": [
    "### Наличие пропусков"
   ]
  },
  {
   "cell_type": "code",
   "execution_count": 8,
   "id": "6e05f992a9275f80",
   "metadata": {
    "ExecuteTime": {
     "end_time": "2024-04-23T08:33:28.758141Z",
     "start_time": "2024-04-23T08:33:27.780510Z"
    }
   },
   "outputs": [
    {
     "name": "stdout",
     "output_type": "stream",
     "text": [
      "longitude 0\n",
      "latitude 0\n",
      "housing_median_age 0\n",
      "total_rooms 0\n",
      "total_bedrooms 207\n",
      "population 0\n",
      "households 0\n",
      "median_income 0\n",
      "median_house_value 0\n",
      "ocean_proximity 0\n"
     ]
    }
   ],
   "source": [
    "for column in df.columns:\n",
    "    print(column, df.filter(df[column].isNull()).count())"
   ]
  },
  {
   "cell_type": "markdown",
   "id": "71963509",
   "metadata": {},
   "source": [
    "Заполним пустые значения"
   ]
  },
  {
   "cell_type": "code",
   "execution_count": 9,
   "id": "53561ad8c0ab326c",
   "metadata": {
    "ExecuteTime": {
     "end_time": "2024-04-23T08:33:29.710079Z",
     "start_time": "2024-04-23T08:33:28.759312Z"
    }
   },
   "outputs": [
    {
     "name": "stdout",
     "output_type": "stream",
     "text": [
      "root\n",
      " |-- longitude: double (nullable = true)\n",
      " |-- latitude: double (nullable = true)\n",
      " |-- housing_median_age: double (nullable = true)\n",
      " |-- total_rooms: double (nullable = true)\n",
      " |-- total_bedrooms: double (nullable = false)\n",
      " |-- population: double (nullable = true)\n",
      " |-- households: double (nullable = true)\n",
      " |-- median_income: double (nullable = true)\n",
      " |-- median_house_value: double (nullable = true)\n",
      " |-- ocean_proximity: string (nullable = true)\n",
      "\n"
     ]
    }
   ],
   "source": [
    "df = df.na.fill(0, ['total_bedrooms'])\n",
    "df.printSchema()"
   ]
  },
  {
   "cell_type": "code",
   "execution_count": 10,
   "id": "3eae401a398b8235",
   "metadata": {
    "ExecuteTime": {
     "end_time": "2024-04-23T08:33:29.909111Z",
     "start_time": "2024-04-23T08:33:29.711280Z"
    }
   },
   "outputs": [
    {
     "name": "stdout",
     "output_type": "stream",
     "text": [
      "longitude 0\n",
      "latitude 0\n",
      "housing_median_age 0\n",
      "total_rooms 0\n",
      "total_bedrooms 0\n",
      "population 0\n",
      "households 0\n",
      "median_income 0\n",
      "median_house_value 0\n",
      "ocean_proximity 0\n"
     ]
    }
   ],
   "source": [
    "for column in df.columns:\n",
    "    print(column, df.filter(df[column].isNull()).count())"
   ]
  },
  {
   "cell_type": "markdown",
   "id": "49333618e6050b70",
   "metadata": {},
   "source": [
    "### Преобразование колонок"
   ]
  },
  {
   "cell_type": "markdown",
   "id": "42100989",
   "metadata": {},
   "source": [
    "#### Разделение на выборки"
   ]
  },
  {
   "cell_type": "code",
   "execution_count": 11,
   "id": "0f5845d4",
   "metadata": {
    "ExecuteTime": {
     "end_time": "2024-04-23T08:33:35.871650Z",
     "start_time": "2024-04-23T08:33:35.130372Z"
    },
    "scrolled": true
   },
   "outputs": [
    {
     "name": "stdout",
     "output_type": "stream",
     "text": [
      "train_data: 16418, test_data: 4222\n"
     ]
    }
   ],
   "source": [
    "train_data, test_data = df.randomSplit([.8, .2], seed=RANDOM_SEED)\n",
    "print(f'train_data: {train_data.count()}, test_data: {test_data.count()}')"
   ]
  },
  {
   "cell_type": "markdown",
   "id": "ec58a4397857cd82",
   "metadata": {},
   "source": [
    "#### Трансформация категорийных признаков"
   ]
  },
  {
   "cell_type": "code",
   "execution_count": 12,
   "id": "d5e2fa1c18b2a045",
   "metadata": {
    "ExecuteTime": {
     "end_time": "2024-04-23T08:33:29.912758Z",
     "start_time": "2024-04-23T08:33:29.910091Z"
    }
   },
   "outputs": [
    {
     "data": {
      "text/plain": [
       "['ocean_proximity']"
      ]
     },
     "execution_count": 12,
     "metadata": {},
     "output_type": "execute_result"
    }
   ],
   "source": [
    "cat_columns = ['ocean_proximity']\n",
    "cat_columns"
   ]
  },
  {
   "cell_type": "markdown",
   "id": "2c790ba959c1ac09",
   "metadata": {},
   "source": [
    "В первую очередь трансформируем категориальные признаки с помощью трансформера StringIndexer"
   ]
  },
  {
   "cell_type": "code",
   "execution_count": 13,
   "id": "92d2b48a6aad452f",
   "metadata": {
    "ExecuteTime": {
     "end_time": "2024-04-23T08:33:30.398547Z",
     "start_time": "2024-04-23T08:33:29.913407Z"
    }
   },
   "outputs": [
    {
     "name": "stderr",
     "output_type": "stream",
     "text": [
      "                                                                                \r"
     ]
    }
   ],
   "source": [
    "indexer = StringIndexer(inputCols=cat_columns, outputCols=[c + '_idx' for c in cat_columns], handleInvalid='keep')\n",
    "indexer_model = indexer.fit(train_data)\n",
    "train_data = indexer_model.transform(train_data)\n",
    "test_data = indexer_model.transform(test_data)"
   ]
  },
  {
   "cell_type": "code",
   "execution_count": 14,
   "id": "36619a84",
   "metadata": {},
   "outputs": [
    {
     "name": "stdout",
     "output_type": "stream",
     "text": [
      "+---------------+-------------------+\n",
      "|ocean_proximity|ocean_proximity_idx|\n",
      "+---------------+-------------------+\n",
      "|     NEAR OCEAN|                2.0|\n",
      "|     NEAR OCEAN|                2.0|\n",
      "|     NEAR OCEAN|                2.0|\n",
      "+---------------+-------------------+\n",
      "only showing top 3 rows\n",
      "\n"
     ]
    }
   ],
   "source": [
    "cols = [i for i in train_data.columns for j in cat_columns if (i.startswith(j))]\n",
    "train_data.select(cols).show(3)"
   ]
  },
  {
   "cell_type": "markdown",
   "id": "df595fcc6af3c07",
   "metadata": {},
   "source": [
    "Дополнительно создаем OHE-кодирование для категорий."
   ]
  },
  {
   "cell_type": "code",
   "execution_count": 15,
   "id": "52573304f7a6d261",
   "metadata": {
    "ExecuteTime": {
     "end_time": "2024-04-23T08:33:30.746799Z",
     "start_time": "2024-04-23T08:33:30.687233Z"
    }
   },
   "outputs": [],
   "source": [
    "encoder = OneHotEncoder(inputCols=[c + '_idx' for c in cat_columns], outputCols=[c + '_ohe' for c in cat_columns])\n",
    "encoder_model = encoder.fit(train_data)\n",
    "train_data = encoder_model.transform(train_data)\n",
    "test_data = encoder_model.transform(test_data)"
   ]
  },
  {
   "cell_type": "code",
   "execution_count": 16,
   "id": "7ccebff4b668e044",
   "metadata": {
    "ExecuteTime": {
     "end_time": "2024-04-23T08:33:31.572722Z",
     "start_time": "2024-04-23T08:33:30.747799Z"
    }
   },
   "outputs": [
    {
     "name": "stdout",
     "output_type": "stream",
     "text": [
      "+---------------+-------------------+\n",
      "|ocean_proximity|ocean_proximity_idx|\n",
      "+---------------+-------------------+\n",
      "|     NEAR OCEAN|                2.0|\n",
      "|     NEAR OCEAN|                2.0|\n",
      "|     NEAR OCEAN|                2.0|\n",
      "+---------------+-------------------+\n",
      "only showing top 3 rows\n",
      "\n"
     ]
    }
   ],
   "source": [
    "train_data.select(cols).show(3)"
   ]
  },
  {
   "cell_type": "markdown",
   "id": "11434fb806d66029",
   "metadata": {},
   "source": [
    "Объединение признаков в один вектор"
   ]
  },
  {
   "cell_type": "code",
   "execution_count": 17,
   "id": "d7f59dd735b474e6",
   "metadata": {
    "ExecuteTime": {
     "end_time": "2024-04-23T08:33:31.618587Z",
     "start_time": "2024-04-23T08:33:31.573799Z"
    }
   },
   "outputs": [],
   "source": [
    "categorical_assembler = VectorAssembler(inputCols=[c + '_ohe' for c in cat_columns], outputCol=\"categorical_features\")\n",
    "train_data = categorical_assembler.transform(train_data)\n",
    "test_data = categorical_assembler.transform(test_data)"
   ]
  },
  {
   "cell_type": "code",
   "execution_count": 18,
   "id": "656e3379448dbec2",
   "metadata": {
    "ExecuteTime": {
     "end_time": "2024-04-23T08:33:32.792616Z",
     "start_time": "2024-04-23T08:33:31.619744Z"
    }
   },
   "outputs": [
    {
     "name": "stdout",
     "output_type": "stream",
     "text": [
      "+--------------------+\n",
      "|categorical_features|\n",
      "+--------------------+\n",
      "|       (4,[2],[1.0])|\n",
      "|       (4,[2],[1.0])|\n",
      "|       (4,[2],[1.0])|\n",
      "+--------------------+\n",
      "only showing top 3 rows\n",
      "\n"
     ]
    }
   ],
   "source": [
    "train_data.select('categorical_features').show(3)"
   ]
  },
  {
   "cell_type": "markdown",
   "id": "a3a2ba2195ed34e3",
   "metadata": {},
   "source": [
    "#### Трансформация числовых признаков"
   ]
  },
  {
   "cell_type": "code",
   "execution_count": 19,
   "id": "3e70ae6952e25806",
   "metadata": {
    "ExecuteTime": {
     "end_time": "2024-04-23T08:33:32.796521Z",
     "start_time": "2024-04-23T08:33:32.793560Z"
    }
   },
   "outputs": [
    {
     "data": {
      "text/plain": [
       "['longitude',\n",
       " 'latitude',\n",
       " 'housing_median_age',\n",
       " 'total_rooms',\n",
       " 'total_bedrooms',\n",
       " 'population',\n",
       " 'households',\n",
       " 'median_income']"
      ]
     },
     "execution_count": 19,
     "metadata": {},
     "output_type": "execute_result"
    }
   ],
   "source": [
    "num_columns = ['longitude', 'latitude', 'housing_median_age', 'total_rooms', 'total_bedrooms', 'population',\n",
    "               'households', 'median_income']\n",
    "num_columns"
   ]
  },
  {
   "cell_type": "code",
   "execution_count": 20,
   "id": "ad8c1c602c77012a",
   "metadata": {
    "ExecuteTime": {
     "end_time": "2024-04-23T08:33:32.824557Z",
     "start_time": "2024-04-23T08:33:32.797177Z"
    }
   },
   "outputs": [],
   "source": [
    "numerical_assembler = VectorAssembler(inputCols=num_columns, outputCol=\"numerical_features\")\n",
    "train_data = numerical_assembler.transform(train_data)\n",
    "test_data = numerical_assembler.transform(test_data)"
   ]
  },
  {
   "cell_type": "code",
   "execution_count": 21,
   "id": "dd7a5335f834fccd",
   "metadata": {
    "ExecuteTime": {
     "end_time": "2024-04-23T08:33:33.101005Z",
     "start_time": "2024-04-23T08:33:32.825533Z"
    }
   },
   "outputs": [
    {
     "name": "stderr",
     "output_type": "stream",
     "text": [
      "                                                                                \r"
     ]
    }
   ],
   "source": [
    "standardScaler = StandardScaler(inputCol='numerical_features', outputCol=\"numerical_features_scaled\")\n",
    "standardScaler_model = standardScaler.fit(train_data) \n",
    "train_data = standardScaler_model.transform(train_data)\n",
    "test_data = standardScaler_model.transform(test_data)"
   ]
  },
  {
   "cell_type": "code",
   "execution_count": 22,
   "id": "317abb6c833a204f",
   "metadata": {
    "ExecuteTime": {
     "end_time": "2024-04-23T08:33:34.989926Z",
     "start_time": "2024-04-23T08:33:33.102048Z"
    }
   },
   "outputs": [
    {
     "name": "stdout",
     "output_type": "stream",
     "text": [
      "+-------------------------+\n",
      "|numerical_features_scaled|\n",
      "+-------------------------+\n",
      "|     [-61.952887791441...|\n",
      "|     [-61.927977100733...|\n",
      "|     [-61.913030686308...|\n",
      "+-------------------------+\n",
      "only showing top 3 rows\n",
      "\n"
     ]
    }
   ],
   "source": [
    "train_data.select('numerical_features_scaled').show(3)"
   ]
  },
  {
   "cell_type": "markdown",
   "id": "bc7ca86f17943600",
   "metadata": {},
   "source": [
    "Объеденим категорийные и числовые признаки в колонку features"
   ]
  },
  {
   "cell_type": "code",
   "execution_count": 23,
   "id": "23e4fa84c41f422c",
   "metadata": {
    "ExecuteTime": {
     "end_time": "2024-04-23T08:33:35.022349Z",
     "start_time": "2024-04-23T08:33:34.990955Z"
    }
   },
   "outputs": [],
   "source": [
    "features_assembler = VectorAssembler(inputCols=['categorical_features', 'numerical_features_scaled'], outputCol=\"features\")\n",
    "train_data = features_assembler.transform(train_data)\n",
    "test_data = features_assembler.transform(test_data)"
   ]
  },
  {
   "cell_type": "code",
   "execution_count": 24,
   "id": "aaeeda4f4d0293",
   "metadata": {
    "ExecuteTime": {
     "end_time": "2024-04-23T08:33:35.129269Z",
     "start_time": "2024-04-23T08:33:35.023330Z"
    }
   },
   "outputs": [
    {
     "name": "stdout",
     "output_type": "stream",
     "text": [
      "+--------------------+-------------------------+--------------------+\n",
      "|categorical_features|numerical_features_scaled|            features|\n",
      "+--------------------+-------------------------+--------------------+\n",
      "|       (4,[2],[1.0])|     [-61.952887791441...|[0.0,0.0,1.0,0.0,...|\n",
      "|       (4,[2],[1.0])|     [-61.927977100733...|[0.0,0.0,1.0,0.0,...|\n",
      "|       (4,[2],[1.0])|     [-61.913030686308...|[0.0,0.0,1.0,0.0,...|\n",
      "+--------------------+-------------------------+--------------------+\n",
      "only showing top 3 rows\n",
      "\n"
     ]
    }
   ],
   "source": [
    "train_data.select(['categorical_features', 'numerical_features_scaled', 'features']).show(3)"
   ]
  },
  {
   "cell_type": "markdown",
   "id": "6aaf862f4cda9196",
   "metadata": {},
   "source": [
    "## Обучение моделей"
   ]
  },
  {
   "cell_type": "code",
   "execution_count": 25,
   "id": "95008196bfc7aec5",
   "metadata": {
    "ExecuteTime": {
     "end_time": "2024-04-23T13:41:42.687883Z",
     "start_time": "2024-04-23T13:41:42.667097Z"
    }
   },
   "outputs": [],
   "source": [
    "evaluator = RegressionEvaluator(labelCol=\"median_house_value\", predictionCol=\"prediction\")\n",
    "\n",
    "'''Функция создание модели. Вернет rmse, mae, r2'''\n",
    "def model_fit(featuresCol):\n",
    "    lr = LinearRegression(labelCol='median_house_value', featuresCol=featuresCol)\n",
    "    model = lr.fit(train_data)\n",
    "    predictions = model.transform(test_data)\n",
    "    # predictions.select(\"median_house_value\", \"prediction\").show()\n",
    "    '''Оценка качества модели'''\n",
    "    rmse = evaluator.evaluate(predictions, {evaluator.metricName: \"rmse\"})\n",
    "    mae = evaluator.evaluate(predictions, {evaluator.metricName: \"mae\"})\n",
    "    r2 = evaluator.evaluate(predictions, {evaluator.metricName: \"r2\"})\n",
    "    return rmse, mae, r2"
   ]
  },
  {
   "cell_type": "markdown",
   "id": "1516ae213d76512e",
   "metadata": {},
   "source": [
    "### Обучение LogisticRegression на всех данных"
   ]
  },
  {
   "cell_type": "code",
   "execution_count": 26,
   "id": "d3a4a50b11a4c631",
   "metadata": {
    "ExecuteTime": {
     "end_time": "2024-04-23T13:34:33.423473Z",
     "start_time": "2024-04-23T13:34:33.407520Z"
    }
   },
   "outputs": [
    {
     "name": "stderr",
     "output_type": "stream",
     "text": [
      "24/04/23 15:50:23 WARN Instrumentation: [298daea8] regParam is zero, which might cause numerical instability and overfitting.\n",
      "24/04/23 15:50:24 WARN BLAS: Failed to load implementation from: com.github.fommil.netlib.NativeSystemBLAS\n",
      "24/04/23 15:50:24 WARN BLAS: Failed to load implementation from: com.github.fommil.netlib.NativeRefBLAS\n",
      "24/04/23 15:50:25 WARN LAPACK: Failed to load implementation from: com.github.fommil.netlib.NativeSystemLAPACK\n",
      "24/04/23 15:50:25 WARN LAPACK: Failed to load implementation from: com.github.fommil.netlib.NativeRefLAPACK\n",
      "24/04/23 15:50:25 WARN Instrumentation: [298daea8] Cholesky solver failed due to singular covariance matrix. Retrying with Quasi-Newton solver.\n",
      "                                                                                \r"
     ]
    },
    {
     "name": "stdout",
     "output_type": "stream",
     "text": [
      "RMSE: 68547.35\n",
      "MAE: 49977.32\n",
      "R2: 0.65\n"
     ]
    }
   ],
   "source": [
    "rmse_features, mae_features, r2_features = model_fit('features')\n",
    "print(f\"RMSE: {rmse_features:.2f}\")\n",
    "print(f\"MAE: {mae_features:.2f}\")\n",
    "print(f\"R2: {r2_features:.2f}\")"
   ]
  },
  {
   "cell_type": "markdown",
   "id": "b4a8ee88",
   "metadata": {},
   "source": [
    "### Обучение LogisticRegression на числовых"
   ]
  },
  {
   "cell_type": "code",
   "execution_count": 27,
   "id": "14b43cc3",
   "metadata": {
    "ExecuteTime": {
     "end_time": "2024-04-23T08:39:42.637440Z",
     "start_time": "2024-04-23T08:39:42.624872Z"
    },
    "scrolled": true
   },
   "outputs": [
    {
     "name": "stderr",
     "output_type": "stream",
     "text": [
      "24/04/23 15:50:29 WARN Instrumentation: [7fdd35d8] regParam is zero, which might cause numerical instability and overfitting.\n",
      "                                                                                \r"
     ]
    },
    {
     "name": "stdout",
     "output_type": "stream",
     "text": [
      "RMSE: 69278.39\n",
      "MAE: 51010.98\n",
      "R2: 0.65\n"
     ]
    }
   ],
   "source": [
    "rmse_num_features, mae_num_features, r2_num_features = model_fit('numerical_features')\n",
    "print(f\"RMSE: {rmse_num_features:.2f}\")\n",
    "print(f\"MAE: {mae_num_features:.2f}\")\n",
    "print(f\"R2: {r2_num_features:.2f}\")"
   ]
  },
  {
   "cell_type": "code",
   "execution_count": 28,
   "id": "981561af",
   "metadata": {},
   "outputs": [],
   "source": [
    "spark.stop()"
   ]
  },
  {
   "cell_type": "markdown",
   "id": "35921b37f7aae84e",
   "metadata": {},
   "source": [
    "### Сравнение результатов"
   ]
  },
  {
   "cell_type": "markdown",
   "id": "a2b72460",
   "metadata": {},
   "source": [
    "Из полученных результатов можно сделать следующие выводы:\n",
    "\n",
    "1. Значения метрик RMSE и MAE в первом и втором случае довольно близки, что говорит о том, что модель, построенная на всех данных, показывает практически такие же результаты, как и модель, построенная только на числовых переменных.\n",
    "\n",
    "\n",
    "2. Значение коэффициента детерминации R2 в обоих случаях составляет 0.65, что говорит о том, что модели объясняют 65% дисперсии зависимой переменной. Это является приемлемым результатом, но не очень высоким.\n",
    "\n",
    "\n",
    "3. Небольшое увеличение значений RMSE и MAE во втором случае (при использовании только числовых переменных) может говорить о том, что добавление категориальных переменных в модель улучшает ее качество. Однако, разница в значениях метрик не очень велика, что свидетельствует о том, что категориальные переменные не оказывают очень сильного влияния на качество модели.\n",
    "\n",
    "Таким образом, можно сделать вывод, что обе модели показывают примерно одинаковые результаты, и использование всех доступных переменных (как числовых, так и категориальных) позволяет построить немного более качественную модель, чем использование только числовых переменных"
   ]
  },
  {
   "cell_type": "markdown",
   "id": "3eaee7b4",
   "metadata": {},
   "source": [
    "<font color='green'>Немного полезного материала:\n",
    "+  https://sparkbyexamples.com/pyspark-tutorial/, https://sparkbyexamples.com/\n",
    "+  https://github.com/dvgodoy/handyspark\n",
    "+  https://www.tutorialspoint.com/pyspark/index.htm\n",
    "+  https://www.guru99.com/pyspark-tutorial.html\n",
    "+  https://databricks.com/spark/getting-started-with-apache-spark/machine-learning#load-sample-data\n",
    "</font>"
   ]
  }
 ],
 "metadata": {
  "ExecuteTimeLog": [
   {
    "duration": 494,
    "start_time": "2024-04-23T08:41:05.312Z"
   },
   {
    "duration": 0,
    "start_time": "2024-04-23T08:41:05.808Z"
   },
   {
    "duration": 0,
    "start_time": "2024-04-23T08:41:05.809Z"
   },
   {
    "duration": 0,
    "start_time": "2024-04-23T08:41:05.810Z"
   },
   {
    "duration": 0,
    "start_time": "2024-04-23T08:41:05.811Z"
   },
   {
    "duration": 0,
    "start_time": "2024-04-23T08:41:05.812Z"
   },
   {
    "duration": 0,
    "start_time": "2024-04-23T08:41:05.813Z"
   },
   {
    "duration": 0,
    "start_time": "2024-04-23T08:41:05.814Z"
   },
   {
    "duration": 0,
    "start_time": "2024-04-23T08:41:05.815Z"
   },
   {
    "duration": 0,
    "start_time": "2024-04-23T08:41:05.816Z"
   },
   {
    "duration": 0,
    "start_time": "2024-04-23T08:41:05.817Z"
   },
   {
    "duration": 0,
    "start_time": "2024-04-23T08:41:05.818Z"
   },
   {
    "duration": 0,
    "start_time": "2024-04-23T08:41:05.819Z"
   },
   {
    "duration": 0,
    "start_time": "2024-04-23T08:41:05.821Z"
   },
   {
    "duration": 0,
    "start_time": "2024-04-23T08:41:05.822Z"
   },
   {
    "duration": 0,
    "start_time": "2024-04-23T08:41:05.823Z"
   },
   {
    "duration": 0,
    "start_time": "2024-04-23T08:41:05.824Z"
   },
   {
    "duration": 0,
    "start_time": "2024-04-23T08:41:05.825Z"
   },
   {
    "duration": 0,
    "start_time": "2024-04-23T08:41:05.826Z"
   },
   {
    "duration": 0,
    "start_time": "2024-04-23T08:41:05.827Z"
   },
   {
    "duration": 0,
    "start_time": "2024-04-23T08:41:05.829Z"
   },
   {
    "duration": 0,
    "start_time": "2024-04-23T08:41:05.830Z"
   },
   {
    "duration": 0,
    "start_time": "2024-04-23T08:41:05.872Z"
   },
   {
    "duration": 0,
    "start_time": "2024-04-23T08:41:05.875Z"
   },
   {
    "duration": 0,
    "start_time": "2024-04-23T08:41:05.876Z"
   },
   {
    "duration": 279,
    "start_time": "2024-04-23T08:41:59.048Z"
   },
   {
    "duration": 3,
    "start_time": "2024-04-23T08:42:02.552Z"
   },
   {
    "duration": 745,
    "start_time": "2024-04-23T08:42:21.387Z"
   },
   {
    "duration": 4,
    "start_time": "2024-04-23T08:42:22.134Z"
   },
   {
    "duration": 15184,
    "start_time": "2024-04-23T08:42:22.140Z"
   },
   {
    "duration": 482,
    "start_time": "2024-04-23T08:42:37.374Z"
   },
   {
    "duration": 0,
    "start_time": "2024-04-23T08:42:37.858Z"
   },
   {
    "duration": 0,
    "start_time": "2024-04-23T08:42:37.860Z"
   },
   {
    "duration": 0,
    "start_time": "2024-04-23T08:42:37.861Z"
   },
   {
    "duration": 0,
    "start_time": "2024-04-23T08:42:37.863Z"
   },
   {
    "duration": 1,
    "start_time": "2024-04-23T08:42:37.863Z"
   },
   {
    "duration": 0,
    "start_time": "2024-04-23T08:42:37.865Z"
   },
   {
    "duration": 0,
    "start_time": "2024-04-23T08:42:37.866Z"
   },
   {
    "duration": 0,
    "start_time": "2024-04-23T08:42:37.867Z"
   },
   {
    "duration": 0,
    "start_time": "2024-04-23T08:42:37.868Z"
   },
   {
    "duration": 0,
    "start_time": "2024-04-23T08:42:37.869Z"
   },
   {
    "duration": 0,
    "start_time": "2024-04-23T08:42:37.870Z"
   },
   {
    "duration": 0,
    "start_time": "2024-04-23T08:42:37.872Z"
   },
   {
    "duration": 0,
    "start_time": "2024-04-23T08:42:37.873Z"
   },
   {
    "duration": 0,
    "start_time": "2024-04-23T08:42:37.875Z"
   },
   {
    "duration": 0,
    "start_time": "2024-04-23T08:42:37.877Z"
   },
   {
    "duration": 0,
    "start_time": "2024-04-23T08:42:37.878Z"
   },
   {
    "duration": 0,
    "start_time": "2024-04-23T08:42:37.879Z"
   },
   {
    "duration": 0,
    "start_time": "2024-04-23T08:42:37.880Z"
   },
   {
    "duration": 0,
    "start_time": "2024-04-23T08:42:37.881Z"
   },
   {
    "duration": 0,
    "start_time": "2024-04-23T08:42:37.882Z"
   },
   {
    "duration": 0,
    "start_time": "2024-04-23T08:42:37.883Z"
   },
   {
    "duration": 8566,
    "start_time": "2024-04-23T08:43:02.541Z"
   },
   {
    "duration": 712,
    "start_time": "2024-04-23T08:43:18.375Z"
   },
   {
    "duration": 1304,
    "start_time": "2024-04-23T08:43:21.171Z"
   },
   {
    "duration": 1252,
    "start_time": "2024-04-23T08:43:24.624Z"
   },
   {
    "duration": 3839,
    "start_time": "2024-04-23T08:43:28.761Z"
   },
   {
    "duration": 4068,
    "start_time": "2024-04-23T08:43:33.925Z"
   },
   {
    "duration": 861,
    "start_time": "2024-04-23T08:43:40.496Z"
   },
   {
    "duration": 5,
    "start_time": "2024-04-23T08:43:44.144Z"
   },
   {
    "duration": 1435,
    "start_time": "2024-04-23T08:43:46.844Z"
   },
   {
    "duration": 711,
    "start_time": "2024-04-23T08:43:53.901Z"
   },
   {
    "duration": 252,
    "start_time": "2024-04-23T08:43:56.626Z"
   },
   {
    "duration": 1883,
    "start_time": "2024-04-23T08:43:58.302Z"
   },
   {
    "duration": 46,
    "start_time": "2024-04-23T08:44:01.756Z"
   },
   {
    "duration": 2356,
    "start_time": "2024-04-23T08:44:06.298Z"
   },
   {
    "duration": 4,
    "start_time": "2024-04-23T08:44:10.561Z"
   },
   {
    "duration": 60,
    "start_time": "2024-04-23T08:44:12.015Z"
   },
   {
    "duration": 1043,
    "start_time": "2024-04-23T08:44:13.831Z"
   },
   {
    "duration": 3890,
    "start_time": "2024-04-23T08:44:16.944Z"
   },
   {
    "duration": 29,
    "start_time": "2024-04-23T08:44:23.111Z"
   },
   {
    "duration": 292,
    "start_time": "2024-04-23T08:44:24.438Z"
   },
   {
    "duration": 2799,
    "start_time": "2024-04-23T08:44:27.593Z"
   },
   {
    "duration": 717,
    "start_time": "2024-04-23T08:48:53.503Z"
   },
   {
    "duration": 2,
    "start_time": "2024-04-23T08:48:54.222Z"
   },
   {
    "duration": 15663,
    "start_time": "2024-04-23T08:48:54.226Z"
   },
   {
    "duration": 8704,
    "start_time": "2024-04-23T08:49:09.891Z"
   },
   {
    "duration": 782,
    "start_time": "2024-04-23T08:49:18.600Z"
   },
   {
    "duration": 1303,
    "start_time": "2024-04-23T08:49:19.384Z"
   },
   {
    "duration": 1293,
    "start_time": "2024-04-23T08:49:20.689Z"
   },
   {
    "duration": 3915,
    "start_time": "2024-04-23T08:49:21.984Z"
   },
   {
    "duration": 4023,
    "start_time": "2024-04-23T08:49:25.901Z"
   },
   {
    "duration": 956,
    "start_time": "2024-04-23T08:49:29.926Z"
   },
   {
    "duration": 4,
    "start_time": "2024-04-23T08:49:30.884Z"
   },
   {
    "duration": 1786,
    "start_time": "2024-04-23T08:49:30.890Z"
   },
   {
    "duration": 761,
    "start_time": "2024-04-23T08:49:32.678Z"
   },
   {
    "duration": 253,
    "start_time": "2024-04-23T08:49:33.442Z"
   },
   {
    "duration": 1877,
    "start_time": "2024-04-23T08:49:33.697Z"
   },
   {
    "duration": 46,
    "start_time": "2024-04-23T08:49:35.575Z"
   },
   {
    "duration": 2316,
    "start_time": "2024-04-23T08:49:35.623Z"
   },
   {
    "duration": 4,
    "start_time": "2024-04-23T08:49:37.941Z"
   },
   {
    "duration": 59,
    "start_time": "2024-04-23T08:49:37.947Z"
   },
   {
    "duration": 1199,
    "start_time": "2024-04-23T08:49:38.008Z"
   },
   {
    "duration": 3953,
    "start_time": "2024-04-23T08:49:39.272Z"
   },
   {
    "duration": 50,
    "start_time": "2024-04-23T08:49:43.227Z"
   },
   {
    "duration": 407,
    "start_time": "2024-04-23T08:49:43.279Z"
   },
   {
    "duration": 2611,
    "start_time": "2024-04-23T08:49:43.688Z"
   },
   {
    "duration": 8896084,
    "start_time": "2024-04-23T08:49:46.301Z"
   },
   {
    "duration": 0,
    "start_time": "2024-04-23T11:18:02.387Z"
   },
   {
    "duration": 0,
    "start_time": "2024-04-23T11:18:02.390Z"
   },
   {
    "duration": 10,
    "start_time": "2024-04-23T11:18:06.508Z"
   },
   {
    "duration": 4,
    "start_time": "2024-04-23T11:19:16.136Z"
   },
   {
    "duration": 723,
    "start_time": "2024-04-23T11:19:25.197Z"
   },
   {
    "duration": 2,
    "start_time": "2024-04-23T11:19:25.922Z"
   },
   {
    "duration": 15467,
    "start_time": "2024-04-23T11:19:25.926Z"
   },
   {
    "duration": 8677,
    "start_time": "2024-04-23T11:19:41.396Z"
   },
   {
    "duration": 804,
    "start_time": "2024-04-23T11:19:50.079Z"
   },
   {
    "duration": 1508,
    "start_time": "2024-04-23T11:19:50.884Z"
   },
   {
    "duration": 1282,
    "start_time": "2024-04-23T11:19:52.393Z"
   },
   {
    "duration": 4003,
    "start_time": "2024-04-23T11:19:53.678Z"
   },
   {
    "duration": 4158,
    "start_time": "2024-04-23T11:19:57.683Z"
   },
   {
    "duration": 1127,
    "start_time": "2024-04-23T11:20:01.874Z"
   },
   {
    "duration": 5,
    "start_time": "2024-04-23T11:20:03.003Z"
   },
   {
    "duration": 1667,
    "start_time": "2024-04-23T11:20:03.009Z"
   },
   {
    "duration": 861,
    "start_time": "2024-04-23T11:20:04.678Z"
   },
   {
    "duration": 247,
    "start_time": "2024-04-23T11:20:05.542Z"
   },
   {
    "duration": 1762,
    "start_time": "2024-04-23T11:20:05.790Z"
   },
   {
    "duration": 50,
    "start_time": "2024-04-23T11:20:07.553Z"
   },
   {
    "duration": 2542,
    "start_time": "2024-04-23T11:20:07.605Z"
   },
   {
    "duration": 5,
    "start_time": "2024-04-23T11:20:10.149Z"
   },
   {
    "duration": 49,
    "start_time": "2024-04-23T11:20:10.156Z"
   },
   {
    "duration": 1185,
    "start_time": "2024-04-23T11:20:10.207Z"
   },
   {
    "duration": 3796,
    "start_time": "2024-04-23T11:20:11.394Z"
   },
   {
    "duration": 25,
    "start_time": "2024-04-23T11:20:15.192Z"
   },
   {
    "duration": 420,
    "start_time": "2024-04-23T11:20:15.219Z"
   },
   {
    "duration": 2744,
    "start_time": "2024-04-23T11:20:15.641Z"
   },
   {
    "duration": 3996,
    "start_time": "2024-04-23T11:20:18.387Z"
   },
   {
    "duration": 1036,
    "start_time": "2024-04-23T11:20:22.385Z"
   },
   {
    "duration": 2971,
    "start_time": "2024-04-23T11:21:05.630Z"
   },
   {
    "duration": 867,
    "start_time": "2024-04-23T11:21:09.365Z"
   },
   {
    "duration": 2305,
    "start_time": "2024-04-23T11:29:40.704Z"
   },
   {
    "duration": 713,
    "start_time": "2024-04-23T11:29:43.011Z"
   },
   {
    "duration": 2817,
    "start_time": "2024-04-23T11:29:54.756Z"
   },
   {
    "duration": 881,
    "start_time": "2024-04-23T11:29:58.918Z"
   },
   {
    "duration": 91,
    "start_time": "2024-04-23T13:14:40.579Z"
   },
   {
    "duration": 5,
    "start_time": "2024-04-23T13:16:50.962Z"
   },
   {
    "duration": 9,
    "start_time": "2024-04-23T13:16:54.270Z"
   },
   {
    "duration": 188,
    "start_time": "2024-04-23T13:17:04.894Z"
   },
   {
    "duration": 2743,
    "start_time": "2024-04-23T13:17:16.671Z"
   },
   {
    "duration": 2604,
    "start_time": "2024-04-23T13:17:35.782Z"
   },
   {
    "duration": 1544,
    "start_time": "2024-04-23T13:18:09.935Z"
   },
   {
    "duration": 2318,
    "start_time": "2024-04-23T13:21:42.775Z"
   },
   {
    "duration": 571,
    "start_time": "2024-04-23T13:21:46.903Z"
   },
   {
    "duration": 2736,
    "start_time": "2024-04-23T13:21:50.849Z"
   },
   {
    "duration": 15,
    "start_time": "2024-04-23T13:23:54.465Z"
   },
   {
    "duration": 1693,
    "start_time": "2024-04-23T13:24:11.317Z"
   },
   {
    "duration": 589,
    "start_time": "2024-04-23T13:24:14.093Z"
   },
   {
    "duration": 1763,
    "start_time": "2024-04-23T13:26:37.882Z"
   },
   {
    "duration": 2415,
    "start_time": "2024-04-23T13:27:01.522Z"
   },
   {
    "duration": 793,
    "start_time": "2024-04-23T13:27:54.193Z"
   },
   {
    "duration": 36,
    "start_time": "2024-04-23T13:29:14.826Z"
   },
   {
    "duration": 35,
    "start_time": "2024-04-23T13:29:22.722Z"
   },
   {
    "duration": 673,
    "start_time": "2024-04-23T13:29:32.766Z"
   },
   {
    "duration": 2663,
    "start_time": "2024-04-23T13:29:45.449Z"
   },
   {
    "duration": 780,
    "start_time": "2024-04-23T13:50:17.747Z"
   },
   {
    "duration": 2,
    "start_time": "2024-04-23T13:50:18.529Z"
   },
   {
    "duration": 16444,
    "start_time": "2024-04-23T13:50:18.533Z"
   },
   {
    "duration": 9920,
    "start_time": "2024-04-23T13:50:34.981Z"
   },
   {
    "duration": 797,
    "start_time": "2024-04-23T13:50:44.904Z"
   },
   {
    "duration": 1542,
    "start_time": "2024-04-23T13:50:45.703Z"
   },
   {
    "duration": 1436,
    "start_time": "2024-04-23T13:50:47.247Z"
   },
   {
    "duration": 4299,
    "start_time": "2024-04-23T13:50:48.686Z"
   },
   {
    "duration": 4435,
    "start_time": "2024-04-23T13:50:52.988Z"
   },
   {
    "duration": 1249,
    "start_time": "2024-04-23T13:50:57.425Z"
   },
   {
    "duration": 4,
    "start_time": "2024-04-23T13:50:58.676Z"
   },
   {
    "duration": 1641,
    "start_time": "2024-04-23T13:50:58.682Z"
   },
   {
    "duration": 824,
    "start_time": "2024-04-23T13:51:00.374Z"
   },
   {
    "duration": 281,
    "start_time": "2024-04-23T13:51:01.203Z"
   },
   {
    "duration": 1974,
    "start_time": "2024-04-23T13:51:01.487Z"
   },
   {
    "duration": 51,
    "start_time": "2024-04-23T13:51:03.463Z"
   },
   {
    "duration": 2545,
    "start_time": "2024-04-23T13:51:03.516Z"
   },
   {
    "duration": 14,
    "start_time": "2024-04-23T13:51:06.063Z"
   },
   {
    "duration": 43,
    "start_time": "2024-04-23T13:51:06.079Z"
   },
   {
    "duration": 1181,
    "start_time": "2024-04-23T13:51:06.125Z"
   },
   {
    "duration": 4166,
    "start_time": "2024-04-23T13:51:07.308Z"
   },
   {
    "duration": 26,
    "start_time": "2024-04-23T13:51:11.476Z"
   },
   {
    "duration": 438,
    "start_time": "2024-04-23T13:51:11.505Z"
   },
   {
    "duration": 35,
    "start_time": "2024-04-23T13:51:11.945Z"
   },
   {
    "duration": 2717,
    "start_time": "2024-04-23T13:51:11.982Z"
   },
   {
    "duration": 7135,
    "start_time": "2024-04-23T13:51:14.701Z"
   },
   {
    "duration": 5903,
    "start_time": "2024-04-23T13:51:21.838Z"
   },
   {
    "duration": 66,
    "start_time": "2024-04-23T14:25:54.389Z"
   },
   {
    "duration": 770,
    "start_time": "2024-04-23T14:25:56.857Z"
   },
   {
    "duration": 2,
    "start_time": "2024-04-23T14:25:58.825Z"
   },
   {
    "duration": 16688,
    "start_time": "2024-04-23T14:26:00.587Z"
   },
   {
    "duration": 9695,
    "start_time": "2024-04-23T14:26:17.280Z"
   },
   {
    "duration": 709,
    "start_time": "2024-04-23T14:26:26.977Z"
   },
   {
    "duration": 4801,
    "start_time": "2024-04-23T14:26:27.688Z"
   },
   {
    "duration": 1776,
    "start_time": "2024-04-23T14:27:03.301Z"
   },
   {
    "duration": 1410,
    "start_time": "2024-04-23T14:30:00.886Z"
   },
   {
    "duration": 1502,
    "start_time": "2024-04-23T14:31:13.777Z"
   },
   {
    "duration": 442,
    "start_time": "2024-04-23T14:34:58.443Z"
   },
   {
    "duration": 11,
    "start_time": "2024-04-23T14:38:50.565Z"
   },
   {
    "duration": 4,
    "start_time": "2024-04-23T14:38:55.570Z"
   },
   {
    "duration": 1092,
    "start_time": "2024-04-23T14:39:08.009Z"
   },
   {
    "duration": 8,
    "start_time": "2024-04-23T14:42:14.725Z"
   },
   {
    "duration": 768,
    "start_time": "2024-04-23T14:42:20.361Z"
   },
   {
    "duration": 3,
    "start_time": "2024-04-23T14:42:21.131Z"
   },
   {
    "duration": 16679,
    "start_time": "2024-04-23T14:42:21.136Z"
   },
   {
    "duration": 9226,
    "start_time": "2024-04-23T14:42:37.872Z"
   },
   {
    "duration": 786,
    "start_time": "2024-04-23T14:42:47.102Z"
   },
   {
    "duration": 4488,
    "start_time": "2024-04-23T14:42:47.890Z"
   },
   {
    "duration": 817,
    "start_time": "2024-04-23T14:42:52.380Z"
   },
   {
    "duration": 3802,
    "start_time": "2024-04-23T14:42:53.199Z"
   },
   {
    "duration": 142,
    "start_time": "2024-04-23T14:42:57.003Z"
   },
   {
    "duration": 0,
    "start_time": "2024-04-23T14:42:57.147Z"
   },
   {
    "duration": 0,
    "start_time": "2024-04-23T14:42:57.148Z"
   },
   {
    "duration": 0,
    "start_time": "2024-04-23T14:42:57.149Z"
   },
   {
    "duration": 0,
    "start_time": "2024-04-23T14:42:57.150Z"
   },
   {
    "duration": 0,
    "start_time": "2024-04-23T14:42:57.152Z"
   },
   {
    "duration": 0,
    "start_time": "2024-04-23T14:42:57.153Z"
   },
   {
    "duration": 0,
    "start_time": "2024-04-23T14:42:57.154Z"
   },
   {
    "duration": 0,
    "start_time": "2024-04-23T14:42:57.155Z"
   },
   {
    "duration": 0,
    "start_time": "2024-04-23T14:42:57.173Z"
   },
   {
    "duration": 0,
    "start_time": "2024-04-23T14:42:57.174Z"
   },
   {
    "duration": 0,
    "start_time": "2024-04-23T14:42:57.176Z"
   },
   {
    "duration": 0,
    "start_time": "2024-04-23T14:42:57.177Z"
   },
   {
    "duration": 0,
    "start_time": "2024-04-23T14:42:57.178Z"
   },
   {
    "duration": 0,
    "start_time": "2024-04-23T14:42:57.179Z"
   },
   {
    "duration": 0,
    "start_time": "2024-04-23T14:42:57.180Z"
   },
   {
    "duration": 0,
    "start_time": "2024-04-23T14:42:57.182Z"
   },
   {
    "duration": 0,
    "start_time": "2024-04-23T14:42:57.183Z"
   },
   {
    "duration": 0,
    "start_time": "2024-04-23T14:42:57.184Z"
   },
   {
    "duration": 7,
    "start_time": "2024-04-23T14:43:03.050Z"
   },
   {
    "duration": 36,
    "start_time": "2024-04-23T14:43:13.238Z"
   },
   {
    "duration": 31,
    "start_time": "2024-04-23T14:43:28.513Z"
   },
   {
    "duration": 157,
    "start_time": "2024-04-23T14:44:12.720Z"
   },
   {
    "duration": 1198,
    "start_time": "2024-04-23T14:45:59.508Z"
   },
   {
    "duration": 1424,
    "start_time": "2024-04-23T14:46:18.060Z"
   },
   {
    "duration": 1799,
    "start_time": "2024-04-23T14:50:46.884Z"
   },
   {
    "duration": 4,
    "start_time": "2024-04-23T14:52:07.204Z"
   },
   {
    "duration": 1496,
    "start_time": "2024-04-23T14:52:09.594Z"
   },
   {
    "duration": 130,
    "start_time": "2024-04-23T14:53:29.666Z"
   },
   {
    "duration": 133,
    "start_time": "2024-04-23T14:53:41.068Z"
   },
   {
    "duration": 684,
    "start_time": "2024-04-23T15:01:11.695Z"
   },
   {
    "duration": 130,
    "start_time": "2024-04-23T15:01:56.135Z"
   },
   {
    "duration": 907,
    "start_time": "2024-04-23T15:02:21.402Z"
   },
   {
    "duration": 714,
    "start_time": "2024-04-23T15:02:35.510Z"
   },
   {
    "duration": 3,
    "start_time": "2024-04-23T15:02:36.226Z"
   },
   {
    "duration": 15980,
    "start_time": "2024-04-23T15:02:36.231Z"
   },
   {
    "duration": 9189,
    "start_time": "2024-04-23T15:02:52.214Z"
   },
   {
    "duration": 767,
    "start_time": "2024-04-23T15:03:01.407Z"
   },
   {
    "duration": 4630,
    "start_time": "2024-04-23T15:03:02.176Z"
   },
   {
    "duration": 865,
    "start_time": "2024-04-23T15:03:06.808Z"
   },
   {
    "duration": 3622,
    "start_time": "2024-04-23T15:03:07.675Z"
   },
   {
    "duration": 286,
    "start_time": "2024-04-23T15:03:11.299Z"
   },
   {
    "duration": 1721,
    "start_time": "2024-04-23T15:03:11.587Z"
   },
   {
    "duration": 1699,
    "start_time": "2024-04-23T15:03:13.310Z"
   },
   {
    "duration": 65,
    "start_time": "2024-04-23T15:03:15.010Z"
   },
   {
    "duration": 1997,
    "start_time": "2024-04-23T15:03:15.077Z"
   },
   {
    "duration": 1137,
    "start_time": "2024-04-23T15:03:17.078Z"
   },
   {
    "duration": 0,
    "start_time": "2024-04-23T15:03:18.216Z"
   },
   {
    "duration": 0,
    "start_time": "2024-04-23T15:03:18.218Z"
   },
   {
    "duration": 0,
    "start_time": "2024-04-23T15:03:18.218Z"
   },
   {
    "duration": 0,
    "start_time": "2024-04-23T15:03:18.273Z"
   },
   {
    "duration": 0,
    "start_time": "2024-04-23T15:03:18.275Z"
   },
   {
    "duration": 0,
    "start_time": "2024-04-23T15:03:18.276Z"
   },
   {
    "duration": 0,
    "start_time": "2024-04-23T15:03:18.277Z"
   },
   {
    "duration": 0,
    "start_time": "2024-04-23T15:03:18.279Z"
   },
   {
    "duration": 0,
    "start_time": "2024-04-23T15:03:18.280Z"
   },
   {
    "duration": 0,
    "start_time": "2024-04-23T15:03:18.281Z"
   },
   {
    "duration": 0,
    "start_time": "2024-04-23T15:03:18.282Z"
   },
   {
    "duration": 0,
    "start_time": "2024-04-23T15:03:18.283Z"
   },
   {
    "duration": 0,
    "start_time": "2024-04-23T15:03:18.284Z"
   },
   {
    "duration": 0,
    "start_time": "2024-04-23T15:03:18.285Z"
   },
   {
    "duration": 573,
    "start_time": "2024-04-23T15:03:48.111Z"
   },
   {
    "duration": 8,
    "start_time": "2024-04-23T15:04:27.792Z"
   },
   {
    "duration": 13,
    "start_time": "2024-04-23T15:04:40.101Z"
   },
   {
    "duration": 630,
    "start_time": "2024-04-23T15:04:55.176Z"
   },
   {
    "duration": 366,
    "start_time": "2024-04-23T15:06:59.717Z"
   },
   {
    "duration": 580,
    "start_time": "2024-04-23T15:07:09.716Z"
   },
   {
    "duration": 536,
    "start_time": "2024-04-23T15:07:18.662Z"
   },
   {
    "duration": 53,
    "start_time": "2024-04-23T15:08:18.161Z"
   },
   {
    "duration": 414,
    "start_time": "2024-04-23T15:08:19.463Z"
   },
   {
    "duration": 573,
    "start_time": "2024-04-23T15:08:29.208Z"
   },
   {
    "duration": 137,
    "start_time": "2024-04-23T15:10:18.466Z"
   },
   {
    "duration": 394,
    "start_time": "2024-04-23T15:10:20.636Z"
   },
   {
    "duration": 4,
    "start_time": "2024-04-23T15:10:23.311Z"
   },
   {
    "duration": 41,
    "start_time": "2024-04-23T15:10:27.182Z"
   },
   {
    "duration": 934,
    "start_time": "2024-04-23T15:10:44.843Z"
   },
   {
    "duration": 711,
    "start_time": "2024-04-23T15:10:56.562Z"
   },
   {
    "duration": 416,
    "start_time": "2024-04-23T15:11:21.182Z"
   },
   {
    "duration": 614,
    "start_time": "2024-04-23T15:11:30.176Z"
   },
   {
    "duration": 34,
    "start_time": "2024-04-23T15:13:51.738Z"
   },
   {
    "duration": 477,
    "start_time": "2024-04-23T15:13:57.799Z"
   },
   {
    "duration": 16,
    "start_time": "2024-04-23T15:14:04.742Z"
   },
   {
    "duration": 3908,
    "start_time": "2024-04-23T15:14:08.823Z"
   },
   {
    "duration": 786,
    "start_time": "2024-04-23T15:14:42.146Z"
   },
   {
    "duration": 3,
    "start_time": "2024-04-23T15:14:42.934Z"
   },
   {
    "duration": 15765,
    "start_time": "2024-04-23T15:14:42.939Z"
   },
   {
    "duration": 9269,
    "start_time": "2024-04-23T15:14:58.706Z"
   },
   {
    "duration": 704,
    "start_time": "2024-04-23T15:15:07.978Z"
   },
   {
    "duration": 4607,
    "start_time": "2024-04-23T15:15:08.685Z"
   },
   {
    "duration": 815,
    "start_time": "2024-04-23T15:15:13.294Z"
   },
   {
    "duration": 3807,
    "start_time": "2024-04-23T15:15:14.174Z"
   },
   {
    "duration": 209,
    "start_time": "2024-04-23T15:15:17.983Z"
   },
   {
    "duration": 1482,
    "start_time": "2024-04-23T15:15:18.194Z"
   },
   {
    "duration": 1633,
    "start_time": "2024-04-23T15:15:19.678Z"
   },
   {
    "duration": 62,
    "start_time": "2024-04-23T15:15:21.313Z"
   },
   {
    "duration": 1928,
    "start_time": "2024-04-23T15:15:21.377Z"
   },
   {
    "duration": 786,
    "start_time": "2024-04-23T15:15:23.308Z"
   },
   {
    "duration": 493,
    "start_time": "2024-04-23T15:15:24.096Z"
   },
   {
    "duration": 448,
    "start_time": "2024-04-23T15:15:24.592Z"
   },
   {
    "duration": 124,
    "start_time": "2024-04-23T15:15:25.073Z"
   },
   {
    "duration": 689,
    "start_time": "2024-04-23T15:15:25.199Z"
   },
   {
    "duration": 9,
    "start_time": "2024-04-23T15:15:25.890Z"
   },
   {
    "duration": 185,
    "start_time": "2024-04-23T15:15:25.902Z"
   },
   {
    "duration": 1283,
    "start_time": "2024-04-23T15:15:26.090Z"
   },
   {
    "duration": 609,
    "start_time": "2024-04-23T15:15:27.375Z"
   },
   {
    "duration": 93,
    "start_time": "2024-04-23T15:15:27.986Z"
   },
   {
    "duration": 607,
    "start_time": "2024-04-23T15:15:28.081Z"
   },
   {
    "duration": 14,
    "start_time": "2024-04-23T15:15:28.690Z"
   },
   {
    "duration": 5431,
    "start_time": "2024-04-23T15:15:28.706Z"
   },
   {
    "duration": 0,
    "start_time": "2024-04-23T15:15:34.141Z"
   },
   {
    "duration": 0,
    "start_time": "2024-04-23T15:15:34.142Z"
   },
   {
    "duration": 3641,
    "start_time": "2024-04-23T15:16:12.954Z"
   },
   {
    "duration": 785,
    "start_time": "2024-04-23T15:17:19.956Z"
   },
   {
    "duration": 3,
    "start_time": "2024-04-23T15:17:20.743Z"
   },
   {
    "duration": 16130,
    "start_time": "2024-04-23T15:17:20.747Z"
   },
   {
    "duration": 9028,
    "start_time": "2024-04-23T15:17:36.880Z"
   },
   {
    "duration": 810,
    "start_time": "2024-04-23T15:17:45.977Z"
   },
   {
    "duration": 4713,
    "start_time": "2024-04-23T15:17:46.789Z"
   },
   {
    "duration": 870,
    "start_time": "2024-04-23T15:17:51.504Z"
   },
   {
    "duration": 4001,
    "start_time": "2024-04-23T15:17:52.377Z"
   },
   {
    "duration": 95,
    "start_time": "2024-04-23T15:17:56.380Z"
   },
   {
    "duration": 2628,
    "start_time": "2024-04-23T15:17:56.476Z"
   },
   {
    "duration": 1568,
    "start_time": "2024-04-23T15:17:59.106Z"
   },
   {
    "duration": 4,
    "start_time": "2024-04-23T15:18:00.676Z"
   },
   {
    "duration": 1527,
    "start_time": "2024-04-23T15:18:00.681Z"
   },
   {
    "duration": 615,
    "start_time": "2024-04-23T15:18:02.275Z"
   },
   {
    "duration": 483,
    "start_time": "2024-04-23T15:18:02.892Z"
   },
   {
    "duration": 390,
    "start_time": "2024-04-23T15:18:03.377Z"
   },
   {
    "duration": 120,
    "start_time": "2024-04-23T15:18:03.769Z"
   },
   {
    "duration": 705,
    "start_time": "2024-04-23T15:18:03.890Z"
   },
   {
    "duration": 11,
    "start_time": "2024-04-23T15:18:04.597Z"
   },
   {
    "duration": 116,
    "start_time": "2024-04-23T15:18:04.674Z"
   },
   {
    "duration": 1482,
    "start_time": "2024-04-23T15:18:04.793Z"
   },
   {
    "duration": 605,
    "start_time": "2024-04-23T15:18:06.278Z"
   },
   {
    "duration": 112,
    "start_time": "2024-04-23T15:18:06.884Z"
   },
   {
    "duration": 581,
    "start_time": "2024-04-23T15:18:06.998Z"
   },
   {
    "duration": 15,
    "start_time": "2024-04-23T15:18:07.581Z"
   },
   {
    "duration": 4664,
    "start_time": "2024-04-23T15:18:07.597Z"
   },
   {
    "duration": 0,
    "start_time": "2024-04-23T15:18:12.264Z"
   },
   {
    "duration": 0,
    "start_time": "2024-04-23T15:18:12.265Z"
   },
   {
    "duration": 535,
    "start_time": "2024-04-23T15:19:44.575Z"
   },
   {
    "duration": 770,
    "start_time": "2024-04-23T15:49:36.541Z"
   },
   {
    "duration": 3,
    "start_time": "2024-04-23T15:49:37.312Z"
   },
   {
    "duration": 15669,
    "start_time": "2024-04-23T15:49:37.317Z"
   },
   {
    "duration": 8719,
    "start_time": "2024-04-23T15:49:52.988Z"
   },
   {
    "duration": 874,
    "start_time": "2024-04-23T15:50:01.709Z"
   },
   {
    "duration": 4452,
    "start_time": "2024-04-23T15:50:02.585Z"
   },
   {
    "duration": 730,
    "start_time": "2024-04-23T15:50:07.075Z"
   },
   {
    "duration": 3615,
    "start_time": "2024-04-23T15:50:07.872Z"
   },
   {
    "duration": 88,
    "start_time": "2024-04-23T15:50:11.489Z"
   },
   {
    "duration": 2990,
    "start_time": "2024-04-23T15:50:11.578Z"
   },
   {
    "duration": 1414,
    "start_time": "2024-04-23T15:50:14.571Z"
   },
   {
    "duration": 5,
    "start_time": "2024-04-23T15:50:15.987Z"
   },
   {
    "duration": 1905,
    "start_time": "2024-04-23T15:50:15.994Z"
   },
   {
    "duration": 710,
    "start_time": "2024-04-23T15:50:17.902Z"
   },
   {
    "duration": 380,
    "start_time": "2024-04-23T15:50:18.614Z"
   },
   {
    "duration": 383,
    "start_time": "2024-04-23T15:50:18.996Z"
   },
   {
    "duration": 114,
    "start_time": "2024-04-23T15:50:19.381Z"
   },
   {
    "duration": 625,
    "start_time": "2024-04-23T15:50:19.497Z"
   },
   {
    "duration": 56,
    "start_time": "2024-04-23T15:50:20.124Z"
   },
   {
    "duration": 114,
    "start_time": "2024-04-23T15:50:20.181Z"
   },
   {
    "duration": 1189,
    "start_time": "2024-04-23T15:50:20.297Z"
   },
   {
    "duration": 489,
    "start_time": "2024-04-23T15:50:21.489Z"
   },
   {
    "duration": 113,
    "start_time": "2024-04-23T15:50:21.980Z"
   },
   {
    "duration": 615,
    "start_time": "2024-04-23T15:50:22.094Z"
   },
   {
    "duration": 72,
    "start_time": "2024-04-23T15:50:22.711Z"
   },
   {
    "duration": 6698,
    "start_time": "2024-04-23T15:50:22.785Z"
   },
   {
    "duration": 3512,
    "start_time": "2024-04-23T15:50:29.485Z"
   },
   {
    "duration": 390,
    "start_time": "2024-04-23T15:50:32.999Z"
   }
  ],
  "kernelspec": {
   "display_name": "Python 3 (ipykernel)",
   "language": "python",
   "name": "python3"
  },
  "language_info": {
   "codemirror_mode": {
    "name": "ipython",
    "version": 3
   },
   "file_extension": ".py",
   "mimetype": "text/x-python",
   "name": "python",
   "nbconvert_exporter": "python",
   "pygments_lexer": "ipython3",
   "version": "3.9.5"
  },
  "toc": {
   "base_numbering": 1,
   "nav_menu": {},
   "number_sections": true,
   "sideBar": true,
   "skip_h1_title": true,
   "title_cell": "Table of Contents",
   "title_sidebar": "Contents",
   "toc_cell": false,
   "toc_position": {},
   "toc_section_display": true,
   "toc_window_display": true
  }
 },
 "nbformat": 4,
 "nbformat_minor": 5
}
